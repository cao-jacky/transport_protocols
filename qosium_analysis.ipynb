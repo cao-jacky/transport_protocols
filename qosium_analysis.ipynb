{
 "cells": [
  {
   "cell_type": "code",
   "execution_count": 37,
   "id": "c163a643",
   "metadata": {},
   "outputs": [],
   "source": [
    "import os\n",
    "import pandas as pd\n",
    "import numpy as np"
   ]
  },
  {
   "cell_type": "code",
   "execution_count": 39,
   "id": "239030eb",
   "metadata": {},
   "outputs": [
    {
     "name": "stdout",
     "output_type": "stream",
     "text": [
      "['20230511_1545_oneplus_iedge_5g_tcp_480p.txt', '20230511_1558_oneplus_iedge_5g_tcp_1080p.txt', '20230511_1643_oneplus_iedge_5g_tcp_480p.txt', '20230512_1509_oneplus_iedge_5g_tcp_480p_922.txt', '20230512_1543_oneplus_iedge_5g_tcp_480p.txt', '20230512_1601_oneplus_iedge_5g_tcp_1080p.txt', '20230512_1622_oneplus_iedge_5g_tcp_1080p.txt', '20230512_1646_oneplus_iedge_4g_tcp_480p.txt']\n"
     ]
    }
   ],
   "source": [
    "results_path = './Results/Transport Protocols'\n",
    "results_files = os.listdir(results_path)\n",
    "print(results_files)\n",
    "results_files = ['20230512_1646_oneplus_iedge_4g_tcp_480p.txt']"
   ]
  },
  {
   "cell_type": "code",
   "execution_count": 40,
   "id": "d4baceb6",
   "metadata": {},
   "outputs": [],
   "source": [
    "for results_file in results_files:\n",
    "    with open(f'{results_path}/{results_file}') as f:\n",
    "        results = [line for line in f.readlines()]\n",
    "    \n",
    "    general_col_names = pd.DataFrame([results[18]]).iloc[:, 0].str.split('\\t',expand=True)\n",
    "    data_col_names = pd.DataFrame([results[19]]).iloc[:, 0].str.split('\\t',expand=True)\n",
    "\n",
    "    new_cols = []\n",
    "    general_col_prefix = ''\n",
    "    for i in general_col_names:\n",
    "        curr_general_col_name = general_col_names[i][0]\n",
    "        curr_data_col_name = data_col_names[i][0]\n",
    "        if len(curr_general_col_name) > 1:\n",
    "            general_col_prefix = curr_general_col_name.split(' ')[0].replace(',', '')\n",
    "            if 'QoS' in general_col_prefix:\n",
    "                direction = curr_general_col_name.split(' ')[1]\n",
    "                general_col_prefix = f'{general_col_prefix}_{direction}'\n",
    "        new_col_name = f'{general_col_prefix} {curr_data_col_name}'\n",
    "        new_cols.append(new_col_name)\n",
    "    new_cols.append(' ')\n",
    "    \n",
    "    df = pd.DataFrame(results[18:])\n",
    "    df = df.iloc[:, 0].str.split('\\t',expand=True)\n",
    "    \n",
    "    df.columns = new_cols\n",
    "    df = df.drop(df.index[[0, 1]])"
   ]
  },
  {
   "cell_type": "code",
   "execution_count": 41,
   "id": "81e920ca",
   "metadata": {},
   "outputs": [],
   "source": [
    "useful_columns = ['QoS_Uplink Delay [ms]', 'QoS_Downlink Delay [ms]', 'Primary RSSI [dBm]', 'Primary RSRP [dBm]', 'Primary RSRQ [dB]', 'Primary SINR [dB]']"
   ]
  },
  {
   "cell_type": "code",
   "execution_count": 42,
   "id": "fcc2d71f",
   "metadata": {},
   "outputs": [
    {
     "name": "stdout",
     "output_type": "stream",
     "text": [
      "QoS_Uplink Delay [ms]      63.0765\n",
      "QoS_Downlink Delay [ms]    25.7760\n",
      "Primary RSSI [dBm]             NaN\n",
      "Primary RSRP [dBm]             NaN\n",
      "Primary RSRQ [dB]              NaN\n",
      "Primary SINR [dB]              NaN\n",
      "dtype: float64\n",
      "\n",
      "\n",
      "QoS_Uplink Delay [ms]       38.771787\n",
      "QoS_Downlink Delay [ms]    346.270543\n",
      "Primary RSSI [dBm]                NaN\n",
      "Primary RSRP [dBm]                NaN\n",
      "Primary RSRQ [dB]                 NaN\n",
      "Primary SINR [dB]                 NaN\n",
      "dtype: float64\n"
     ]
    }
   ],
   "source": [
    "useful_df = df[useful_columns]\n",
    "useful_df = useful_df.apply(pd.to_numeric, errors='coerce')\n",
    "\n",
    "median = useful_df.median()\n",
    "std = useful_df.std()\n",
    "\n",
    "print(median)\n",
    "print('\\n')\n",
    "\n",
    "print(std)\n"
   ]
  },
  {
   "cell_type": "code",
   "execution_count": null,
   "id": "aae53100",
   "metadata": {},
   "outputs": [],
   "source": []
  }
 ],
 "metadata": {
  "kernelspec": {
   "display_name": "Python 3 (ipykernel)",
   "language": "python",
   "name": "python3"
  },
  "language_info": {
   "codemirror_mode": {
    "name": "ipython",
    "version": 3
   },
   "file_extension": ".py",
   "mimetype": "text/x-python",
   "name": "python",
   "nbconvert_exporter": "python",
   "pygments_lexer": "ipython3",
   "version": "3.10.6"
  }
 },
 "nbformat": 4,
 "nbformat_minor": 5
}
